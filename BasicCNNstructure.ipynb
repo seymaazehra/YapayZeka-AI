{
  "nbformat": 4,
  "nbformat_minor": 0,
  "metadata": {
    "colab": {
      "name": "BasicCNNstructure.ipynb",
      "provenance": [],
      "collapsed_sections": [],
      "authorship_tag": "ABX9TyM04BwHx8ogQLf06TWivSyr",
      "include_colab_link": true
    },
    "kernelspec": {
      "name": "python3",
      "display_name": "Python 3"
    },
    "language_info": {
      "name": "python"
    }
  },
  "cells": [
    {
      "cell_type": "markdown",
      "metadata": {
        "id": "view-in-github",
        "colab_type": "text"
      },
      "source": [
        "<a href=\"https://colab.research.google.com/github/seymaazehra/YapayZeka-AI/blob/main/BasicCNNstructure.ipynb\" target=\"_parent\"><img src=\"https://colab.research.google.com/assets/colab-badge.svg\" alt=\"Open In Colab\"/></a>"
      ]
    },
    {
      "cell_type": "code",
      "execution_count": null,
      "metadata": {
        "id": "JggdGPADnNO5"
      },
      "outputs": [],
      "source": [
        "from keras.datasets import mnist\n",
        "from keras.models import Sequential\n",
        "from keras.layers import Dense\n",
        "from keras.layers import Dropout\n",
        "from keras.layers import Flatten\n",
        "from keras.layers.convolutional import Conv2D\n",
        "from keras.layers.convolutional import MaxPooling2D\n",
        "from keras.utils import np_utils"
      ]
    },
    {
      "cell_type": "code",
      "source": [
        "#load data\n",
        "(X_train,y_train),(X_test,y_test)=mnist.load_data()"
      ],
      "metadata": {
        "colab": {
          "base_uri": "https://localhost:8080/"
        },
        "id": "XdMgGYAant8y",
        "outputId": "4e3061f7-e145-48e5-d013-da01ef1e521f"
      },
      "execution_count": null,
      "outputs": [
        {
          "output_type": "stream",
          "name": "stdout",
          "text": [
            "Downloading data from https://storage.googleapis.com/tensorflow/tf-keras-datasets/mnist.npz\n",
            "11493376/11490434 [==============================] - 0s 0us/step\n",
            "11501568/11490434 [==============================] - 0s 0us/step\n"
          ]
        }
      ]
    },
    {
      "cell_type": "code",
      "source": [
        "#reshape to be [samples][width][height][channels]\n",
        "X_train=X_train.reshape(X_train.shape[0],28,28,1).astype('float32')\n",
        "X_test=X_test.reshape(X_test.shape[0],28,28,1).astype('float32')\n"
      ],
      "metadata": {
        "id": "wy-z7CeZn4e_"
      },
      "execution_count": null,
      "outputs": []
    },
    {
      "cell_type": "code",
      "source": [
        "#normalize inputs from 0-255 to 0-1\n",
        "X_train=X_train/255\n",
        "X_test=X_test/255"
      ],
      "metadata": {
        "id": "WRaUsClQn68P"
      },
      "execution_count": null,
      "outputs": []
    },
    {
      "cell_type": "code",
      "source": [
        "#one hot encode outputs\n",
        "y_train=np_utils.to_categorical(y_train)\n",
        "y_test=np_utils.to_categorical(y_test)\n",
        "num_classes=y_test.shape[1]"
      ],
      "metadata": {
        "id": "CuFjvrH2n9KQ"
      },
      "execution_count": null,
      "outputs": []
    },
    {
      "cell_type": "code",
      "source": [
        "def larger_model():\n",
        "  #create model\n",
        "  model=Sequential()\n",
        "  model.add(Conv2D(30,(5,5),input_shape=(28,28,1),activation ='relu'))\n",
        "  model.add(MaxPooling2D(pool_size=(2,2)))\n",
        "  model.add(Conv2D(15,(3,3),activation ='relu'))\n",
        "  model.add(MaxPooling2D(pool_size=(2,2)))\n",
        "  model.add(Dropout(0.2))\n",
        "  model.add(Flatten())\n",
        "  model.add(Dense(128,activation='relu'))\n",
        "  model.add(Dense(50,activation='relu'))\n",
        "  model.add(Dense(num_classes,activation='softmax'))\n",
        "  \n",
        "  #compile model\n",
        "  model.compile(loss='categorical_crossentropy',optimizer='adam',metrics=['accuracy'])\n",
        "  return model"
      ],
      "metadata": {
        "id": "BB17K5oJn_h5"
      },
      "execution_count": null,
      "outputs": []
    },
    {
      "cell_type": "code",
      "source": [
        "#build model\n",
        "model=larger_model()\n",
        "\n",
        "#fit the models\n",
        "model.fit(X_train,y_train,validation_data=(X_test,y_test),epochs=10,batch_size=200, verbose=2)\n",
        "\n",
        "#Finall evalution of the model\n",
        "\n",
        "scores = model.evaluate(X_test, y_test, verbose=0)\n",
        "print(\"CNN Error: %.2f%%\" % (100-scores[1]*100))"
      ],
      "metadata": {
        "colab": {
          "base_uri": "https://localhost:8080/"
        },
        "id": "VwrogU94oC-5",
        "outputId": "f9c15bc7-8849-4283-8763-9cba2b252754"
      },
      "execution_count": null,
      "outputs": [
        {
          "output_type": "stream",
          "name": "stdout",
          "text": [
            "Epoch 1/10\n",
            "300/300 - 34s - loss: 0.3933 - accuracy: 0.8774 - val_loss: 0.0839 - val_accuracy: 0.9748 - 34s/epoch - 114ms/step\n",
            "Epoch 2/10\n",
            "300/300 - 34s - loss: 0.0952 - accuracy: 0.9700 - val_loss: 0.0481 - val_accuracy: 0.9841 - 34s/epoch - 114ms/step\n",
            "Epoch 3/10\n",
            "300/300 - 33s - loss: 0.0680 - accuracy: 0.9789 - val_loss: 0.0437 - val_accuracy: 0.9859 - 33s/epoch - 111ms/step\n",
            "Epoch 4/10\n",
            "300/300 - 33s - loss: 0.0556 - accuracy: 0.9826 - val_loss: 0.0332 - val_accuracy: 0.9892 - 33s/epoch - 111ms/step\n",
            "Epoch 5/10\n",
            "300/300 - 33s - loss: 0.0506 - accuracy: 0.9840 - val_loss: 0.0310 - val_accuracy: 0.9890 - 33s/epoch - 111ms/step\n",
            "Epoch 6/10\n",
            "300/300 - 33s - loss: 0.0434 - accuracy: 0.9861 - val_loss: 0.0266 - val_accuracy: 0.9904 - 33s/epoch - 111ms/step\n",
            "Epoch 7/10\n",
            "300/300 - 33s - loss: 0.0385 - accuracy: 0.9871 - val_loss: 0.0284 - val_accuracy: 0.9904 - 33s/epoch - 110ms/step\n",
            "Epoch 8/10\n",
            "300/300 - 33s - loss: 0.0365 - accuracy: 0.9885 - val_loss: 0.0277 - val_accuracy: 0.9913 - 33s/epoch - 111ms/step\n",
            "Epoch 9/10\n",
            "300/300 - 33s - loss: 0.0333 - accuracy: 0.9894 - val_loss: 0.0318 - val_accuracy: 0.9907 - 33s/epoch - 111ms/step\n",
            "Epoch 10/10\n",
            "300/300 - 33s - loss: 0.0310 - accuracy: 0.9897 - val_loss: 0.0255 - val_accuracy: 0.9915 - 33s/epoch - 111ms/step\n",
            "CNN Error: 0.85%\n"
          ]
        }
      ]
    }
  ]
}