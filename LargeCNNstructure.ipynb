{
  "nbformat": 4,
  "nbformat_minor": 0,
  "metadata": {
    "colab": {
      "name": "LargeCNNstructure.ipynb",
      "provenance": [],
      "collapsed_sections": [],
      "authorship_tag": "ABX9TyNHQaRHfq2hA7lkeSJcaaG8",
      "include_colab_link": true
    },
    "kernelspec": {
      "name": "python3",
      "display_name": "Python 3"
    },
    "language_info": {
      "name": "python"
    }
  },
  "cells": [
    {
      "cell_type": "markdown",
      "metadata": {
        "id": "view-in-github",
        "colab_type": "text"
      },
      "source": [
        "<a href=\"https://colab.research.google.com/github/seymaazehra/YapayZeka-AI/blob/main/LargeCNNstructure.ipynb\" target=\"_parent\"><img src=\"https://colab.research.google.com/assets/colab-badge.svg\" alt=\"Open In Colab\"/></a>"
      ]
    },
    {
      "cell_type": "code",
      "execution_count": null,
      "metadata": {
        "colab": {
          "base_uri": "https://localhost:8080/"
        },
        "id": "3CxZlmELqwYw",
        "outputId": "db00135a-fd1b-4529-f419-b9377fcd1455"
      },
      "outputs": [
        {
          "output_type": "stream",
          "name": "stdout",
          "text": [
            "Downloading data from https://storage.googleapis.com/tensorflow/tf-keras-datasets/mnist.npz\n",
            "11493376/11490434 [==============================] - 0s 0us/step\n",
            "11501568/11490434 [==============================] - 0s 0us/step\n"
          ]
        }
      ],
      "source": [
        "from keras.datasets import mnist\n",
        "from keras.models import Sequential\n",
        "from keras.layers import Dense\n",
        "from keras.layers import Dropout\n",
        "from keras.layers import Flatten\n",
        "from keras.layers.convolutional import Conv2D\n",
        "from keras.layers.convolutional import MaxPooling2D\n",
        "from keras.utils import np_utils\n",
        "\n",
        "#load data\n",
        "(X_train,y_train),(X_test,y_test)=mnist.load_data()\n",
        "\n",
        "#reshape to be [samples][width][height][channels]\n",
        "X_train=X_train.reshape(X_train.shape[0],28,28,1).astype('float32')\n",
        "X_test=X_test.reshape(X_test.shape[0],28,28,1).astype('float32')\n",
        "\n",
        "#normalize inputs from 0-255 to 0-1\n",
        "X_train=X_train/255\n",
        "X_test=X_test/255\n",
        "\n",
        "#one hot encode outputs\n",
        "y_train=np_utils.to_categorical(y_train)\n",
        "y_test=np_utils.to_categorical(y_test)\n",
        "num_classes=y_test.shape[1]"
      ]
    },
    {
      "cell_type": "code",
      "source": [
        "Ellipsis"
      ],
      "metadata": {
        "colab": {
          "base_uri": "https://localhost:8080/"
        },
        "id": "AXH3TTiirc7Q",
        "outputId": "791a26bf-651d-48e9-ebeb-e5284ab4e45c"
      },
      "execution_count": null,
      "outputs": [
        {
          "output_type": "execute_result",
          "data": {
            "text/plain": [
              "Ellipsis"
            ]
          },
          "metadata": {},
          "execution_count": 2
        }
      ]
    },
    {
      "cell_type": "code",
      "source": [
        "def larger_model():\n",
        "  #create model\n",
        "  model=Sequential()\n",
        "  model.add(Conv2D(30,(5,5),input_shape=(28,28,1),activation ='relu'))\n",
        "  model.add(MaxPooling2D(pool_size=(2,2)))\n",
        "  model.add(Conv2D(15,(3,3),activation ='relu'))\n",
        "  model.add(MaxPooling2D(pool_size=(2,2)))\n",
        "  model.add(Dropout(0.2))\n",
        "  model.add(Flatten())\n",
        "  model.add(Dense(128,activation='relu'))\n",
        "  model.add(Dense(50,activation='relu'))\n",
        "  model.add(Dense(num_classes,activation='softmax'))\n",
        "  \n",
        "  #compile model\n",
        "  model.compile(loss='categorical_crossentropy',optimizer='adam',metrics=['accuracy'])\n",
        "  return model"
      ],
      "metadata": {
        "id": "NqThbnGfrfQP"
      },
      "execution_count": null,
      "outputs": []
    },
    {
      "cell_type": "code",
      "source": [
        "#build model\n",
        "model=larger_model()\n",
        "\n",
        "#fit the models\n",
        "model.fit(X_train,y_train,validation_data=(X_test,y_test),epochs=10,batch_size=200, verbose=2)\n",
        "\n",
        "#Finall evalution of the model\n",
        "\n",
        "scores = model.evaluate(X_test, y_test, verbose=0)\n",
        "print(\"CNN Error: %.2f%%\" % (100-scores[1]*100))"
      ],
      "metadata": {
        "colab": {
          "base_uri": "https://localhost:8080/"
        },
        "id": "TV2VAscjrhRo",
        "outputId": "72dfbd25-4145-47c0-eab6-fbafa2a3251e"
      },
      "execution_count": null,
      "outputs": [
        {
          "output_type": "stream",
          "name": "stdout",
          "text": [
            "Epoch 1/10\n",
            "300/300 - 34s - loss: 0.3728 - accuracy: 0.8871 - val_loss: 0.0840 - val_accuracy: 0.9735 - 34s/epoch - 113ms/step\n",
            "Epoch 2/10\n",
            "300/300 - 33s - loss: 0.1009 - accuracy: 0.9683 - val_loss: 0.0513 - val_accuracy: 0.9823 - 33s/epoch - 110ms/step\n",
            "Epoch 3/10\n",
            "300/300 - 34s - loss: 0.0695 - accuracy: 0.9786 - val_loss: 0.0425 - val_accuracy: 0.9866 - 34s/epoch - 112ms/step\n",
            "Epoch 4/10\n",
            "300/300 - 33s - loss: 0.0588 - accuracy: 0.9814 - val_loss: 0.0365 - val_accuracy: 0.9887 - 33s/epoch - 111ms/step\n",
            "Epoch 5/10\n",
            "300/300 - 33s - loss: 0.0497 - accuracy: 0.9846 - val_loss: 0.0326 - val_accuracy: 0.9893 - 33s/epoch - 112ms/step\n",
            "Epoch 6/10\n",
            "300/300 - 33s - loss: 0.0439 - accuracy: 0.9864 - val_loss: 0.0321 - val_accuracy: 0.9898 - 33s/epoch - 111ms/step\n",
            "Epoch 7/10\n",
            "300/300 - 33s - loss: 0.0387 - accuracy: 0.9884 - val_loss: 0.0292 - val_accuracy: 0.9904 - 33s/epoch - 111ms/step\n",
            "Epoch 8/10\n",
            "300/300 - 33s - loss: 0.0365 - accuracy: 0.9887 - val_loss: 0.0253 - val_accuracy: 0.9916 - 33s/epoch - 111ms/step\n",
            "Epoch 9/10\n",
            "300/300 - 33s - loss: 0.0331 - accuracy: 0.9894 - val_loss: 0.0309 - val_accuracy: 0.9896 - 33s/epoch - 111ms/step\n",
            "Epoch 10/10\n",
            "300/300 - 33s - loss: 0.0313 - accuracy: 0.9900 - val_loss: 0.0299 - val_accuracy: 0.9908 - 33s/epoch - 110ms/step\n",
            "CNN Error: 0.92%\n"
          ]
        }
      ]
    }
  ]
}