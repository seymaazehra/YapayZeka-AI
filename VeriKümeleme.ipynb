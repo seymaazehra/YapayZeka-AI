{
 "cells": [
  {
   "cell_type": "code",
   "execution_count": 8,
   "id": "2232ce85",
   "metadata": {},
   "outputs": [],
   "source": [
    "#kütüphaneler\n",
    "import numpy as np\n",
    "from collections import defaultdict\n",
    "from sklearn.cluster import KMeans"
   ]
  },
  {
   "cell_type": "code",
   "execution_count": 13,
   "id": "ba904117",
   "metadata": {},
   "outputs": [
    {
     "name": "stdout",
     "output_type": "stream",
     "text": [
      "Cluster Name: 0\n",
      "      Data[0.07693912 0.34135684]\n",
      "      Data[0.21124171 0.13352235]\n",
      "      Data[0.01923484 0.31681272]\n",
      "Cluster Name: 1\n",
      "      Data[0.5575315  0.24041414]\n",
      "      Data[0.89451415 0.10790429]\n",
      "      Data[0.7462728  0.28028402]\n",
      "Cluster Name: 2\n",
      "      Data[0.80198432 0.63305567]\n"
     ]
    }
   ],
   "source": [
    "#küme sayısı belirlendi \n",
    "NUMBER_CLUSTERS=3\n",
    "\n",
    "#rastgele veri seti oluşturuldu\n",
    "random_dataset=np.random.rand(7,2)\n",
    "\n",
    "#kümeleme işlemi başladı\n",
    "kmeans=KMeans(n_clusters=NUMBER_CLUSTERS).fit(random_dataset)\n",
    "\n",
    "#veri kümeleme tahmini\n",
    "clusters=defaultdict(list)\n",
    "for i,l in enumerate(kmeans.labels_):\n",
    "    clusters[l].append(random_dataset[i])\n",
    "    \n",
    "# sonuç göster\n",
    "for cluster_name in sorted(clusters):\n",
    "    print(\"Cluster Name: {}\".format(cluster_name))\n",
    "    \n",
    "    for data in clusters[cluster_name]:\n",
    "        print(\"      Data {}\".format(data))"
   ]
  },
  {
   "cell_type": "code",
   "execution_count": null,
   "id": "354ba21c",
   "metadata": {},
   "outputs": [],
   "source": []
  }
 ],
 "metadata": {
  "kernelspec": {
   "display_name": "Python 3",
   "language": "python",
   "name": "python3"
  },
  "language_info": {
   "codemirror_mode": {
    "name": "ipython",
    "version": 3
   },
   "file_extension": ".py",
   "mimetype": "text/x-python",
   "name": "python",
   "nbconvert_exporter": "python",
   "pygments_lexer": "ipython3",
   "version": "3.8.8"
  }
 },
 "nbformat": 4,
 "nbformat_minor": 5
}
