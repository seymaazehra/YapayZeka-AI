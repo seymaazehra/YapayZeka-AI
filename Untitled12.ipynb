{
 "cells": [
  {
   "cell_type": "code",
   "execution_count": 4,
   "id": "99e1605a",
   "metadata": {},
   "outputs": [
    {
     "data": {
      "text/html": [
       "<div>\n",
       "<style scoped>\n",
       "    .dataframe tbody tr th:only-of-type {\n",
       "        vertical-align: middle;\n",
       "    }\n",
       "\n",
       "    .dataframe tbody tr th {\n",
       "        vertical-align: top;\n",
       "    }\n",
       "\n",
       "    .dataframe thead th {\n",
       "        text-align: right;\n",
       "    }\n",
       "</style>\n",
       "<table border=\"1\" class=\"dataframe\">\n",
       "  <thead>\n",
       "    <tr style=\"text-align: right;\">\n",
       "      <th></th>\n",
       "      <th>Hours</th>\n",
       "      <th>Calories</th>\n",
       "      <th>Weight</th>\n",
       "    </tr>\n",
       "  </thead>\n",
       "  <tbody>\n",
       "    <tr>\n",
       "      <th>0</th>\n",
       "      <td>1.0</td>\n",
       "      <td>2500</td>\n",
       "      <td>95</td>\n",
       "    </tr>\n",
       "    <tr>\n",
       "      <th>1</th>\n",
       "      <td>2.0</td>\n",
       "      <td>2000</td>\n",
       "      <td>85</td>\n",
       "    </tr>\n",
       "    <tr>\n",
       "      <th>2</th>\n",
       "      <td>2.5</td>\n",
       "      <td>1900</td>\n",
       "      <td>83</td>\n",
       "    </tr>\n",
       "    <tr>\n",
       "      <th>3</th>\n",
       "      <td>3.0</td>\n",
       "      <td>1850</td>\n",
       "      <td>81</td>\n",
       "    </tr>\n",
       "    <tr>\n",
       "      <th>4</th>\n",
       "      <td>3.5</td>\n",
       "      <td>1600</td>\n",
       "      <td>80</td>\n",
       "    </tr>\n",
       "  </tbody>\n",
       "</table>\n",
       "</div>"
      ],
      "text/plain": [
       "   Hours  Calories  Weight\n",
       "0    1.0      2500      95\n",
       "1    2.0      2000      85\n",
       "2    2.5      1900      83\n",
       "3    3.0      1850      81\n",
       "4    3.5      1600      80"
      ]
     },
     "execution_count": 4,
     "metadata": {},
     "output_type": "execute_result"
    }
   ],
   "source": [
    "###spor salonu veri seti###\n",
    "import pandas as pd\n",
    "import numpy as np\n",
    "ColumnNames=['Hours','Calories','Weight']\n",
    "DataValues=[[1.0,     2500,    95],\n",
    "            [2.0,     2000,    85],\n",
    "            [2.5,     1900,    83],\n",
    "            [3.0,     1850,    81],\n",
    "            [3.5,     1600,    80],\n",
    "            [4.0,     1500,    78],\n",
    "            [5.0,     1500,    77],\n",
    "            [5.5,     1600,    80],\n",
    "            [6.0,     1700,    75],\n",
    "            [6.5,     1500,    70]]\n",
    "#verileri parçalıyoruzz\n",
    "GymData=pd.DataFrame(data=DataValues,columns=ColumnNames)\n",
    "GymData.head()\n",
    "\n"
   ]
  },
  {
   "cell_type": "code",
   "execution_count": 5,
   "id": "a1bd587a",
   "metadata": {},
   "outputs": [
    {
     "name": "stdout",
     "output_type": "stream",
     "text": [
      "KNeighborsRegressor(n_neighbors=2)\n",
      "Accuracy 94.90196078431373\n"
     ]
    }
   ],
   "source": [
    "#target ve özellik ayırıyoruz\n",
    "TargetVariable='Weight'\n",
    "Predictors=['Hours','Calories']\n",
    "X=GymData[Predictors].values\n",
    "y=GymData[TargetVariable].values\n",
    "\n",
    "#Train ve test ayırıyoruz\n",
    "from sklearn.model_selection import train_test_split\n",
    "X_train, X_test, y_train, y_test=train_test_split(X,y,test_size=0.2, random_state=42)\n",
    "########################################################\n",
    "\n",
    "##python reg. model######\n",
    "from sklearn.neighbors import KNeighborsRegressor\n",
    "RegModel=KNeighborsRegressor(n_neighbors=2)\n",
    "\n",
    "##KNN model\n",
    "print(RegModel)\n",
    "\n",
    "#train işlemleri\n",
    "KNN=RegModel.fit(X_train,y_train)\n",
    "prediction=KNN.predict(X_test)\n",
    "\n",
    "#test işlemi sonucu\n",
    "print('Accuracy',100-(np.mean(np.abs((y_test-prediction)/y_test))*100))\n"
   ]
  },
  {
   "cell_type": "code",
   "execution_count": null,
   "id": "adb8e4c0",
   "metadata": {},
   "outputs": [],
   "source": []
  }
 ],
 "metadata": {
  "kernelspec": {
   "display_name": "Python 3",
   "language": "python",
   "name": "python3"
  },
  "language_info": {
   "codemirror_mode": {
    "name": "ipython",
    "version": 3
   },
   "file_extension": ".py",
   "mimetype": "text/x-python",
   "name": "python",
   "nbconvert_exporter": "python",
   "pygments_lexer": "ipython3",
   "version": "3.8.8"
  }
 },
 "nbformat": 4,
 "nbformat_minor": 5
}
